{
 "cells": [
  {
   "cell_type": "code",
   "execution_count": 1,
   "metadata": {},
   "outputs": [
    {
     "name": "stderr",
     "output_type": "stream",
     "text": [
      "Using TensorFlow backend.\n"
     ]
    }
   ],
   "source": [
    "import random\n",
    "import numpy as np\n",
    "import pandas as pd\n",
    "# Visualisation imports\n",
    "import matplotlib.pyplot as plt\n",
    "# Scikit learn for preprocessing\n",
    "from sklearn.model_selection import train_test_split\n",
    "from sklearn.preprocessing import LabelEncoder\n",
    "# Keras Imports - CNN\n",
    "from keras.models import Sequential\n",
    "from keras.layers import Dense, Conv2D, Conv1D, MaxPool2D, Flatten, Dropout, Convolution2D, Activation\n",
    "from keras.optimizers import Adam, SGD\n",
    "from keras.utils.np_utils import to_categorical\n",
    "import pandas as pd\n",
    "from sklearn.linear_model import LogisticRegression\n",
    "from __future__ import division"
   ]
  },
  {
   "cell_type": "code",
   "execution_count": 2,
   "metadata": {},
   "outputs": [],
   "source": [
    "data_path = \"/Users/MeryemMhamdi/Desktop/Lauzhack_creditSuisse-master/data/\""
   ]
  },
  {
   "cell_type": "code",
   "execution_count": 3,
   "metadata": {},
   "outputs": [],
   "source": [
    "train = pd.read_csv(data_path+'train.csv', header=0, sep=\",\", index_col=0, parse_dates=True)"
   ]
  },
  {
   "cell_type": "code",
   "execution_count": 14,
   "metadata": {},
   "outputs": [
    {
     "name": "stdout",
     "output_type": "stream",
     "text": [
      "['category', 'suspicious', 'turnover', 'transaction_count', 'io_ratio', 'age', 'nationality', 'is_pep', 'inactive_days_average', 'inactive_days_max', 'n_of_accounts', 'distinct_counterparties', 'channel_risk', 'atm_withdrawal', 'atm_deposit']\n"
     ]
    }
   ],
   "source": [
    "print(list(train.columns))"
   ]
  },
  {
   "cell_type": "code",
   "execution_count": 30,
   "metadata": {},
   "outputs": [
    {
     "data": {
      "text/plain": [
       "9087"
      ]
     },
     "execution_count": 30,
     "metadata": {},
     "output_type": "execute_result"
    }
   ],
   "source": [
    "len(train[train['suspicious']==1])"
   ]
  },
  {
   "cell_type": "code",
   "execution_count": 68,
   "metadata": {},
   "outputs": [],
   "source": [
    "def label_age(row):\n",
    "    if 30 <= row['age'] <= 50:\n",
    "        return 1\n",
    "    return 0\n",
    "\n",
    "def label_nationality(row):\n",
    "    if row['nationality'] in [141, 134, 123]:\n",
    "        return 1\n",
    "    return 0\n",
    "\n",
    "train['age_new'] = train.apply(lambda row: label_age(row),axis=1)\n",
    "train['nationality_new'] = train.apply(lambda row: label_nationality(row),axis=1)"
   ]
  },
  {
   "cell_type": "code",
   "execution_count": 75,
   "metadata": {},
   "outputs": [],
   "source": [
    "indices_sus = []\n",
    "indices_non_sus = []\n",
    "suspicions = list(train['suspicious'])\n",
    "customers = list(train.index)\n",
    "for i in range(0, len(suspicions)):\n",
    "    if suspicions[i] == 1:\n",
    "        indices_sus.append(customers[i])\n",
    "    else:\n",
    "        indices_non_sus.append(customers[i])\n",
    "        \n",
    "train_sus = train.ix[indices_sus]\n",
    "train_non_sus = train.ix[indices_non_sus].sample(9087)"
   ]
  },
  {
   "cell_type": "code",
   "execution_count": 76,
   "metadata": {},
   "outputs": [
    {
     "data": {
      "text/html": [
       "<div>\n",
       "<style>\n",
       "    .dataframe thead tr:only-child th {\n",
       "        text-align: right;\n",
       "    }\n",
       "\n",
       "    .dataframe thead th {\n",
       "        text-align: left;\n",
       "    }\n",
       "\n",
       "    .dataframe tbody tr th {\n",
       "        vertical-align: top;\n",
       "    }\n",
       "</style>\n",
       "<table border=\"1\" class=\"dataframe\">\n",
       "  <thead>\n",
       "    <tr style=\"text-align: right;\">\n",
       "      <th></th>\n",
       "      <th>category</th>\n",
       "      <th>suspicious</th>\n",
       "      <th>turnover</th>\n",
       "      <th>transaction_count</th>\n",
       "      <th>io_ratio</th>\n",
       "      <th>age</th>\n",
       "      <th>nationality</th>\n",
       "      <th>is_pep</th>\n",
       "      <th>inactive_days_average</th>\n",
       "      <th>inactive_days_max</th>\n",
       "      <th>n_of_accounts</th>\n",
       "      <th>distinct_counterparties</th>\n",
       "      <th>channel_risk</th>\n",
       "      <th>atm_withdrawal</th>\n",
       "      <th>atm_deposit</th>\n",
       "      <th>age_new</th>\n",
       "      <th>nationality_new</th>\n",
       "    </tr>\n",
       "    <tr>\n",
       "      <th>customer</th>\n",
       "      <th></th>\n",
       "      <th></th>\n",
       "      <th></th>\n",
       "      <th></th>\n",
       "      <th></th>\n",
       "      <th></th>\n",
       "      <th></th>\n",
       "      <th></th>\n",
       "      <th></th>\n",
       "      <th></th>\n",
       "      <th></th>\n",
       "      <th></th>\n",
       "      <th></th>\n",
       "      <th></th>\n",
       "      <th></th>\n",
       "      <th></th>\n",
       "      <th></th>\n",
       "    </tr>\n",
       "  </thead>\n",
       "  <tbody>\n",
       "    <tr>\n",
       "      <th>90378226</th>\n",
       "      <td>0</td>\n",
       "      <td>0</td>\n",
       "      <td>14025.82</td>\n",
       "      <td>1.0</td>\n",
       "      <td>0.000000</td>\n",
       "      <td>53.0</td>\n",
       "      <td>94</td>\n",
       "      <td>0</td>\n",
       "      <td>69.74</td>\n",
       "      <td>140.0</td>\n",
       "      <td>1</td>\n",
       "      <td>1.0</td>\n",
       "      <td>0.416491</td>\n",
       "      <td>14025.82</td>\n",
       "      <td>240.616994</td>\n",
       "      <td>0</td>\n",
       "      <td>0</td>\n",
       "    </tr>\n",
       "    <tr>\n",
       "      <th>90786705</th>\n",
       "      <td>0</td>\n",
       "      <td>0</td>\n",
       "      <td>59.20</td>\n",
       "      <td>1.0</td>\n",
       "      <td>1.000000</td>\n",
       "      <td>25.0</td>\n",
       "      <td>33</td>\n",
       "      <td>0</td>\n",
       "      <td>122.70</td>\n",
       "      <td>123.0</td>\n",
       "      <td>3</td>\n",
       "      <td>1.0</td>\n",
       "      <td>0.067732</td>\n",
       "      <td>11.92</td>\n",
       "      <td>0.000000</td>\n",
       "      <td>0</td>\n",
       "      <td>0</td>\n",
       "    </tr>\n",
       "    <tr>\n",
       "      <th>90657248</th>\n",
       "      <td>0</td>\n",
       "      <td>0</td>\n",
       "      <td>20405.73</td>\n",
       "      <td>2.0</td>\n",
       "      <td>0.000000</td>\n",
       "      <td>36.0</td>\n",
       "      <td>191</td>\n",
       "      <td>0</td>\n",
       "      <td>26.36</td>\n",
       "      <td>53.0</td>\n",
       "      <td>1</td>\n",
       "      <td>1.0</td>\n",
       "      <td>0.233284</td>\n",
       "      <td>0.00</td>\n",
       "      <td>9.514731</td>\n",
       "      <td>1</td>\n",
       "      <td>0</td>\n",
       "    </tr>\n",
       "    <tr>\n",
       "      <th>90120852</th>\n",
       "      <td>0</td>\n",
       "      <td>0</td>\n",
       "      <td>10104.68</td>\n",
       "      <td>13.0</td>\n",
       "      <td>0.461538</td>\n",
       "      <td>18.0</td>\n",
       "      <td>33</td>\n",
       "      <td>0</td>\n",
       "      <td>9.69</td>\n",
       "      <td>97.0</td>\n",
       "      <td>2</td>\n",
       "      <td>1.0</td>\n",
       "      <td>0.081019</td>\n",
       "      <td>1659.88</td>\n",
       "      <td>5.347622</td>\n",
       "      <td>0</td>\n",
       "      <td>0</td>\n",
       "    </tr>\n",
       "    <tr>\n",
       "      <th>90811732</th>\n",
       "      <td>0</td>\n",
       "      <td>0</td>\n",
       "      <td>514216.16</td>\n",
       "      <td>2.0</td>\n",
       "      <td>0.000000</td>\n",
       "      <td>80.0</td>\n",
       "      <td>45</td>\n",
       "      <td>0</td>\n",
       "      <td>40.86</td>\n",
       "      <td>123.0</td>\n",
       "      <td>3</td>\n",
       "      <td>1.0</td>\n",
       "      <td>0.614039</td>\n",
       "      <td>0.00</td>\n",
       "      <td>293.757024</td>\n",
       "      <td>0</td>\n",
       "      <td>0</td>\n",
       "    </tr>\n",
       "  </tbody>\n",
       "</table>\n",
       "</div>"
      ],
      "text/plain": [
       "          category  suspicious   turnover  transaction_count  io_ratio   age  \\\n",
       "customer                                                                       \n",
       "90378226         0           0   14025.82                1.0  0.000000  53.0   \n",
       "90786705         0           0      59.20                1.0  1.000000  25.0   \n",
       "90657248         0           0   20405.73                2.0  0.000000  36.0   \n",
       "90120852         0           0   10104.68               13.0  0.461538  18.0   \n",
       "90811732         0           0  514216.16                2.0  0.000000  80.0   \n",
       "\n",
       "          nationality  is_pep  inactive_days_average  inactive_days_max  \\\n",
       "customer                                                                  \n",
       "90378226           94       0                  69.74              140.0   \n",
       "90786705           33       0                 122.70              123.0   \n",
       "90657248          191       0                  26.36               53.0   \n",
       "90120852           33       0                   9.69               97.0   \n",
       "90811732           45       0                  40.86              123.0   \n",
       "\n",
       "          n_of_accounts  distinct_counterparties  channel_risk  \\\n",
       "customer                                                         \n",
       "90378226              1                      1.0      0.416491   \n",
       "90786705              3                      1.0      0.067732   \n",
       "90657248              1                      1.0      0.233284   \n",
       "90120852              2                      1.0      0.081019   \n",
       "90811732              3                      1.0      0.614039   \n",
       "\n",
       "          atm_withdrawal  atm_deposit  age_new  nationality_new  \n",
       "customer                                                         \n",
       "90378226        14025.82   240.616994        0                0  \n",
       "90786705           11.92     0.000000        0                0  \n",
       "90657248            0.00     9.514731        1                0  \n",
       "90120852         1659.88     5.347622        0                0  \n",
       "90811732            0.00   293.757024        0                0  "
      ]
     },
     "execution_count": 76,
     "metadata": {},
     "output_type": "execute_result"
    }
   ],
   "source": [
    "train_non_sus.head()"
   ]
  },
  {
   "cell_type": "code",
   "execution_count": 77,
   "metadata": {},
   "outputs": [],
   "source": [
    "bigdata = train_sus.append(train_non_sus, ignore_index=True)"
   ]
  },
  {
   "cell_type": "code",
   "execution_count": 16,
   "metadata": {},
   "outputs": [],
   "source": [
    "test = pd.read_csv(data_path+'test.csv', header=0, sep=\",\", index_col=0, parse_dates=True)"
   ]
  },
  {
   "cell_type": "code",
   "execution_count": 78,
   "metadata": {},
   "outputs": [],
   "source": [
    "y_train = list(bigdata['suspicious'])\n",
    "feature_cols = ['category', 'turnover', 'transaction_count', 'age_new', 'nationality_new']\n",
    "#feature_cols = ['category', 'turnover', 'transaction_count', 'io_ratio', 'age', 'nationality', 'is_pep', 'inactive_days_average', 'inactive_days_max', 'n_of_accounts', 'distinct_counterparties', 'channel_risk', 'atm_withdrawal', 'atm_deposit']\n",
    "X_train = bigdata.loc[:, feature_cols].values"
   ]
  },
  {
   "cell_type": "code",
   "execution_count": 83,
   "metadata": {},
   "outputs": [],
   "source": [
    "def label_age(row):\n",
    "    if 30 <= row['age'] <= 50:\n",
    "        return 1\n",
    "    return 0\n",
    "\n",
    "def label_nationality(row):\n",
    "    if row['nationality'] in [141, 134, 123]:\n",
    "        return 1\n",
    "    return 0\n",
    "\n",
    "test['age_new'] = test.apply(lambda row: label_age(row),axis=1)\n",
    "test['nationality_new'] = test.apply(lambda row: label_nationality(row),axis=1)"
   ]
  },
  {
   "cell_type": "code",
   "execution_count": 84,
   "metadata": {},
   "outputs": [],
   "source": [
    "X_test = test.loc[:, feature_cols].values"
   ]
  },
  {
   "cell_type": "code",
   "execution_count": 80,
   "metadata": {},
   "outputs": [
    {
     "data": {
      "text/plain": [
       "RandomForestClassifier(bootstrap=True, class_weight=None, criterion='gini',\n",
       "            max_depth=5, max_features='auto', max_leaf_nodes=None,\n",
       "            min_impurity_decrease=0.0, min_impurity_split=None,\n",
       "            min_samples_leaf=1, min_samples_split=2,\n",
       "            min_weight_fraction_leaf=0.0, n_estimators=100, n_jobs=1,\n",
       "            oob_score=False, random_state=0, verbose=0, warm_start=False)"
      ]
     },
     "execution_count": 80,
     "metadata": {},
     "output_type": "execute_result"
    }
   ],
   "source": [
    "from sklearn.ensemble import RandomForestClassifier\n",
    "clf = RandomForestClassifier(n_estimators=100, max_depth=5, random_state=0)\n",
    "clf.fit(X_train, y_train)"
   ]
  },
  {
   "cell_type": "code",
   "execution_count": 81,
   "metadata": {},
   "outputs": [
    {
     "name": "stdout",
     "output_type": "stream",
     "text": [
      "[ 0.10952303  0.53917423  0.09470009  0.15735192  0.09925074]\n"
     ]
    }
   ],
   "source": [
    "print(clf.feature_importances_)"
   ]
  },
  {
   "cell_type": "code",
   "execution_count": 85,
   "metadata": {},
   "outputs": [],
   "source": [
    "predicts = list(clf.predict(X_test))"
   ]
  },
  {
   "cell_type": "code",
   "execution_count": 86,
   "metadata": {},
   "outputs": [
    {
     "name": "stdout",
     "output_type": "stream",
     "text": [
      "[1, 0, 0, 0, 0, 0, 1, 1, 0, 0, 0, 0, 0, 0, 0, 1, 0, 0, 0, 1, 0, 0, 0, 1, 0, 0, 0, 0, 0, 0, 1, 1, 0, 0, 0, 0, 0, 1, 0, 0, 1, 0, 1, 0, 0, 0, 0, 0, 1, 0, 0, 0, 1, 1, 1, 1, 1, 1, 0, 1, 0, 0, 0, 0, 0, 0, 0, 0, 0, 0, 0, 0, 0, 0, 0, 0, 0, 1, 0, 0, 0, 0, 0, 1, 0, 0, 0, 0, 0, 0, 1, 0, 0, 0, 0, 1, 0, 1, 1, 1]\n"
     ]
    }
   ],
   "source": [
    "print(predicts[:100])"
   ]
  },
  {
   "cell_type": "code",
   "execution_count": 87,
   "metadata": {},
   "outputs": [],
   "source": [
    "customers_predictions = []\n",
    "for i in range(0,len(predicts)):\n",
    "    if predicts[i]==1:\n",
    "        customers_predictions.append(customers[i])"
   ]
  },
  {
   "cell_type": "code",
   "execution_count": 88,
   "metadata": {},
   "outputs": [
    {
     "data": {
      "text/plain": [
       "238541"
      ]
     },
     "execution_count": 88,
     "metadata": {},
     "output_type": "execute_result"
    }
   ],
   "source": [
    "len(customers_predictions)"
   ]
  },
  {
   "cell_type": "code",
   "execution_count": 89,
   "metadata": {},
   "outputs": [],
   "source": [
    "results = pd.DataFrame()\n",
    "results['customer'] = customers_predictions\n",
    "results.to_csv('/Users/MeryemMhamdi/Desktop/Lauzhack_creditSuisse/results/RandomForest_new_features.csv', index=False)"
   ]
  },
  {
   "cell_type": "code",
   "execution_count": null,
   "metadata": {},
   "outputs": [],
   "source": []
  }
 ],
 "metadata": {
  "kernelspec": {
   "display_name": "Python 2",
   "language": "python",
   "name": "python2"
  },
  "language_info": {
   "codemirror_mode": {
    "name": "ipython",
    "version": 2
   },
   "file_extension": ".py",
   "mimetype": "text/x-python",
   "name": "python",
   "nbconvert_exporter": "python",
   "pygments_lexer": "ipython2",
   "version": "2.7.13"
  }
 },
 "nbformat": 4,
 "nbformat_minor": 2
}
